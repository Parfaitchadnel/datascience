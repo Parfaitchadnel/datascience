{
 "cells": [
  {
   "cell_type": "code",
   "execution_count": null,
   "metadata": {
    "vscode": {
     "languageId": "plaintext"
    }
   },
   "outputs": [],
   "source": [
    "import librosa\n",
    "\n",
    "audio_file = '/home/chadnel-linux/datascience/datascience/.ipynb_checkpoints/exercice1/rose_bruno_audio.mp3'\n",
    "y, sr = librosa.load(audio_file, sr=None)  # sr=None préserve la fréquence d'échantillonnage native\n",
    "duree = librosa.get_duration(y=y, sr=sr)\n",
    "\n",
    "print(f\"Durée de l'audio : {duree:.2f} secondes\")\n"
   ]
  }
 ],
 "metadata": {
  "language_info": {
   "name": "python"
  }
 },
 "nbformat": 4,
 "nbformat_minor": 2
}
